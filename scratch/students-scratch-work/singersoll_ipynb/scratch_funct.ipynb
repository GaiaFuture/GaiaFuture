{
 "cells": [
  {
   "cell_type": "markdown",
   "id": "4ab68bf3-8a98-44c4-822e-a803efd980bf",
   "metadata": {},
   "source": [
    "## Functions"
   ]
  },
  {
   "cell_type": "code",
   "execution_count": null,
   "id": "1b925554-bc2e-408a-b2be-0f684d9a9595",
   "metadata": {},
   "outputs": [],
   "source": [
    "#~~~~~~~~~~~~~~~~~~~~~~~~~~~~~~~~~~~~~~~~~~~~~\n",
    "# ----     load data stored in casper     ----\n",
    "#~~~~~~~~~~~~~~~~~~~~~~~~~~~~~~~~~~~~~~~~~~~~~\n",
    "#------- Parameter Data---------\n",
    "# x variable data for plotting\n",
    "df = pd.read_csv('/glade/campaign/asp/djk2120/PPEn11/csvs/lhc220926.txt',index_col=0)\n",
    "# the only dimension here is the 'member' aka file index id [LCH0001-500]\n",
    "# convert to data set\n",
    "params = xr.Dataset(df)\n",
    "# subset in parameter file\n",
    "leafcn = params['leafcn']\n",
    "\n",
    "#~~~~~~~~~~~~~~~~~~~~~~~~~~~~~~~~~~~~\n",
    "# ----    variable wrangling     ----\n",
    "#~~~~~~~~~~~~~~~~~~~~~~~~~~~~~~~~~~~~\n",
    "# apply the bug fixing & dim. reduction functions \n",
    "# read in variable cluster\n",
    "da = read_all_simulations('LNC')\n",
    "\n",
    "# feb. ncar time bug\n",
    "da = fix_time(da)\n",
    "\n",
    "# convert xr.ds to xr.da\n",
    "da = da['LNC']\n",
    "\n",
    "# weight gridcell dim by global land area\n",
    "da_global = weight_landarea_gridcells(da,landarea)\n",
    "\n",
    "# weight time dim by days in month\n",
    "da_global_ann = yearly_weighted_average(da_global)\n",
    "\n",
    "# take global avg for param over year dimension\n",
    "lnc = da_global_ann.mean(dim='year')"
   ]
  },
  {
   "cell_type": "code",
   "execution_count": null,
   "id": "3b3289f1-13ff-4ee1-a869-0cc7d175a347",
   "metadata": {},
   "outputs": [],
   "source": [
    "#~~~~~~~~~~~~~~~~~~~~~~~~~~~~~~~~~~~~~~~\n",
    "# ----      Split Data 90/10        ----\n",
    "#~~~~~~~~~~~~~~~~~~~~~~~~~~~~~~~~~~~~~~~\n",
    "x_train, x_test, y_train, y_test = train_test_split(param_reshaped, var_reshaped(-1, 1), test_size=0.1, random_state=0)"
   ]
  }
 ],
 "metadata": {
  "kernelspec": {
   "display_name": "Python 3 (ipykernel)",
   "language": "python",
   "name": "python3"
  },
  "language_info": {
   "codemirror_mode": {
    "name": "ipython",
    "version": 3
   },
   "file_extension": ".py",
   "mimetype": "text/x-python",
   "name": "python",
   "nbconvert_exporter": "python",
   "pygments_lexer": "ipython3",
   "version": "3.10.13"
  }
 },
 "nbformat": 4,
 "nbformat_minor": 5
}
