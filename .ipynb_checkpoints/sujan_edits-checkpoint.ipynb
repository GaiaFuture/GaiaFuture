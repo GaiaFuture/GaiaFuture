{
 "cells": [
  {
   "cell_type": "code",
   "execution_count": 1,
   "id": "6d82ea18-f279-4085-a8e1-0c5cdc3516aa",
   "metadata": {},
   "outputs": [],
   "source": [
    "#import all necessary functions for working with ncdata\n",
    "import xarray as xr\n",
    "import matplotlib.pyplot as plt\n",
    "from dask_jobqueue import PBSCluster\n",
    "import seaborn as sns\n",
    "import numpy as np"
   ]
  },
  {
   "cell_type": "code",
   "execution_count": 2,
   "id": "048fcb82-e5d7-4eb4-85c7-cb717207eb77",
   "metadata": {},
   "outputs": [],
   "source": [
    "from utils import *"
   ]
  },
  {
   "cell_type": "code",
   "execution_count": 3,
   "id": "7e3133b9-a4c1-44da-b0bb-08ab0202b1c9",
   "metadata": {},
   "outputs": [
    {
     "name": "stdout",
     "output_type": "stream",
     "text": [
      "Help on function fix_time in module utils:\n",
      "\n",
      "fix_time(ds)\n",
      "    fix CESM monthly time-parsing bug\n",
      "\n"
     ]
    }
   ],
   "source": [
    "help(fix_time)"
   ]
  },
  {
   "cell_type": "code",
   "execution_count": 3,
   "id": "1ceca01f-caac-4ef3-ab17-6ecb85359843",
   "metadata": {},
   "outputs": [],
   "source": [
    "## read the data and stored in variable latin_hypercube\n",
    "file='/glade/campaign/cgd/tss/projects/PPE/PPEn11_OAAT/CTL2010/hist/PPEn11_CTL2010_OAAT0000.clm2.h0.2005-02-01-00000.nc'\n",
    "latin_hypercube = fix_time(xr.open_dataset(file))\n"
   ]
  },
  {
   "cell_type": "code",
   "execution_count": 1,
   "id": "973b3f44-fd98-48e1-9884-bd0943e8e662",
   "metadata": {},
   "outputs": [],
   "source": [
    "#Dan's Recommendations\n",
    "def yearly_weighted_average(da):\n",
    "    # Get the array of number of days from the main dataset\n",
    "    days_in_month = da['time.daysinmonth']\n",
    "    group = variable_array.groupby(\"time.year\")\n",
    "    weighted_sum = ((da * days_in_month.loc[group.time.values]).sum(dim = 'time')) # Multiply each month's data by corresponding days in month\n",
    "    total_days = days_in_month.loc[group.time.values].sum(dim = 'time')  # Total days in the year\n",
    "    return weighted_sum / total_days  # Calculate weighted average for the year"
   ]
  },
  {
   "cell_type": "code",
   "execution_count": 8,
   "id": "98edfaa3-9245-4747-a0f2-8329c6044df0",
   "metadata": {
    "scrolled": true
   },
   "outputs": [
    {
     "name": "stdin",
     "output_type": "stream",
     "text": [
      "Please enter the variable you are interested in:  WIND\n"
     ]
    },
    {
     "name": "stdout",
     "output_type": "stream",
     "text": [
      "<xarray.DataArray (year: 10, gridcell: 400)>\n",
      "array([[7.502123  , 7.26231056, 8.13464784, ..., 3.78583529, 5.58750981,\n",
      "        5.04640036],\n",
      "       [7.50257504, 7.26273746, 8.13461155, ..., 3.78586627, 5.73043097,\n",
      "        5.04640081],\n",
      "       [7.50257504, 7.26273746, 8.13461155, ..., 3.78586627, 6.5262402 ,\n",
      "        5.04640081],\n",
      "       ...,\n",
      "       [4.86462182, 4.75366784, 9.30011424, ..., 3.71488366, 5.79567467,\n",
      "        4.62294831],\n",
      "       [4.98031804, 4.76255908, 9.66027202, ..., 3.44166691, 5.82658151,\n",
      "        4.26770626],\n",
      "       [4.80154061, 4.65924952, 9.12413873, ..., 3.44350884, 5.58235547,\n",
      "        4.10407174]])\n",
      "Coordinates:\n",
      "  * year     (year) int64 2005 2006 2007 2008 2009 2010 2011 2012 2013 2014\n",
      "Dimensions without coordinates: gridcell\n"
     ]
    }
   ],
   "source": [
    "# Step 1: Ask user for input\n",
    "def get_user_input():\n",
    "    # Ask the user for a variable name for which function calculates weighted average\n",
    "    variable = input(\"Please enter the variable you are interested in: \")\n",
    "    return variable\n",
    "    \n",
    "# Step 2: Store the user input\n",
    "user_input = get_user_input()\n",
    "\n",
    "\n",
    "# Step 3: Pass the user_input to the function that calculates average\n",
    "def calculate_global_monthly_average(user_input):\n",
    "    \"\"\"Calculate the global monthly average based on the user input variable.\"\"\"\n",
    "    global latin_hypercube  # If dataset is a global variable and not passed as an argument\n",
    "    # Changed any stored variable name to array\n",
    "    variable_array = latin_hypercube[user_input]\n",
    "\n",
    "    # Get the array of number of days from the main dataset\n",
    "    days_in_month = variable_array['time.daysinmonth']\n",
    "\n",
    "    # Group the data by year\n",
    "    grouped_data = variable_array.groupby(\"time.year\")\n",
    "\n",
    "    # Define a function to calculate yearly weighted average\n",
    "    #(days_per_month * dataArray).groupby('time.year').sum()\n",
    "    \n",
    "    def yearly_weighted_average(group):\n",
    "        weighted_sum = ((group * days_in_month.loc[group.time.values]).sum(dim = 'time')) # Multiply each month's data by corresponding days in month\n",
    "        total_days = days_in_month.loc[group.time.values].sum(dim = 'time')  # Total days in the year\n",
    "        return weighted_sum / total_days  # Calculate weighted average for the year\n",
    "\n",
    "    # Apply the yearly weighted average function to each group\n",
    "    yearly_average = grouped_data.apply(yearly_weighted_average)\n",
    "\n",
    "    return yearly_average\n",
    "\n",
    "# Step 4: Call the function with user input and print the result\n",
    "result = calculate_global_monthly_average(user_input)\n",
    "print(result)\n"
   ]
  },
  {
   "cell_type": "code",
   "execution_count": null,
   "id": "1847744b-9ace-4914-9297-6cd5ae26ad1a",
   "metadata": {},
   "outputs": [],
   "source": [
    "## test for a variable\n",
    "calculate_global_monthly_average()"
   ]
  },
  {
   "cell_type": "code",
   "execution_count": null,
   "id": "c0299035-35ae-4a4e-81ce-7e650026db47",
   "metadata": {},
   "outputs": [],
   "source": [
    "#  ## testing line by line codes\n",
    "# dataset = latin_hypercube\n",
    "# variable  = dataset[\"TSA\"]\n",
    "# variable.groupby('time.month').mean('time')\n",
    "# x = variable.groupby('time.year')\n",
    "\n",
    "# days_in_month =  dataset['time.daysinmonth']\n",
    "# dataset.groupby(\"time.year\").apply(lambda x: (x * days_in_month).sum())\n"
   ]
  }
 ],
 "metadata": {
  "kernelspec": {
   "display_name": "Python [conda env:.conda-meds-py]",
   "language": "python",
   "name": "conda-env-.conda-meds-py-py"
  },
  "language_info": {
   "codemirror_mode": {
    "name": "ipython",
    "version": 3
   },
   "file_extension": ".py",
   "mimetype": "text/x-python",
   "name": "python",
   "nbconvert_exporter": "python",
   "pygments_lexer": "ipython3",
   "version": "3.11.7"
  }
 },
 "nbformat": 4,
 "nbformat_minor": 5
}
