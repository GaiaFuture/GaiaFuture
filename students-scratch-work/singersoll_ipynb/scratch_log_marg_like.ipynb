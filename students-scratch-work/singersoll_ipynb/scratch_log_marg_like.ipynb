{
 "cells": [
  {
   "cell_type": "markdown",
   "id": "fcb7cdf3-0bd0-48cc-befa-66d4d7b27b2a",
   "metadata": {},
   "source": [
    "https://github.com/scikit-learn/scikit-learn/blob/main/sklearn/gaussian_process/tests/test_gpc.py"
   ]
  },
  {
   "cell_type": "code",
   "execution_count": null,
   "id": "bff1dd90-5748-42d2-a295-037449e292c2",
   "metadata": {},
   "outputs": [],
   "source": [
    "@pytest.mark.parametrize(\"kernel\", kernels)\n",
    "def test_lml_gradient(kernel):\n",
    "    # Compare analytic and numeric gradient of log marginal likelihood.\n",
    "    gpc = GaussianProcessClassifier(kernel=kernel).fit(X, y)\n",
    "\n",
    "    lml, lml_gradient = gpc.log_marginal_likelihood(kernel.theta, True)\n",
    "    lml_gradient_approx = approx_fprime(\n",
    "        kernel.theta, lambda theta: gpc.log_marginal_likelihood(theta, False), 1e-10\n",
    "    )\n",
    "\n",
    "    assert_almost_equal(lml_gradient, lml_gradient_approx, 3)"
   ]
  }
 ],
 "metadata": {
  "kernelspec": {
   "display_name": "Python 3 (ipykernel)",
   "language": "python",
   "name": "python3"
  },
  "language_info": {
   "codemirror_mode": {
    "name": "ipython",
    "version": 3
   },
   "file_extension": ".py",
   "mimetype": "text/x-python",
   "name": "python",
   "nbconvert_exporter": "python",
   "pygments_lexer": "ipython3",
   "version": "3.10.13"
  }
 },
 "nbformat": 4,
 "nbformat_minor": 5
}
