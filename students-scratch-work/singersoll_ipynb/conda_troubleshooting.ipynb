{
 "cells": [
  {
   "cell_type": "code",
   "execution_count": null,
   "id": "fa2eeb30-c95b-45c9-af33-15ae8b6b8b7e",
   "metadata": {},
   "outputs": [],
   "source": [
    "import os, sys\n",
    "sys.path.insert(1, \n",
    "    os.path.expanduser('~/.local/lib/python{0}.{1}/site-packages'\n",
    "                       .format(*sys.version.split('.'), 2)))\n",
    "sys.version, sys.version_info, sys.path"
   ]
  }
 ],
 "metadata": {
  "kernelspec": {
   "display_name": "Python 3 (ipykernel)",
   "language": "python",
   "name": "python3"
  },
  "language_info": {
   "codemirror_mode": {
    "name": "ipython",
    "version": 3
   },
   "file_extension": ".py",
   "mimetype": "text/x-python",
   "name": "python",
   "nbconvert_exporter": "python",
   "pygments_lexer": "ipython3",
   "version": "3.10.13"
  }
 },
 "nbformat": 4,
 "nbformat_minor": 5
}
