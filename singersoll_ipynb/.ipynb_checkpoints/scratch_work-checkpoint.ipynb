{
 "cells": [
  {
   "cell_type": "code",
   "execution_count": null,
   "id": "2665010a-6c71-4522-8cb3-416c7a795003",
   "metadata": {},
   "outputs": [],
   "source": [
    "import xarray as xr\n",
    "# import libraries & data pre-processing functions from utils.py\n",
    "from utils import *"
   ]
  },
  {
   "cell_type": "code",
   "execution_count": null,
   "id": "4616c893-d512-40ab-be5c-c68ecc4724ff",
   "metadata": {},
   "outputs": [],
   "source": [
    "\n",
    "#~~~~~~~~~~~~~~~~~~~~~~~~~~~~~~~~~~~~~~~~~~~~~\n",
    "# ----     load data stored in casper     ----\n",
    "#~~~~~~~~~~~~~~~~~~~~~~~~~~~~~~~~~~~~~~~~~~~~~\n",
    "#-------Gridcell Landareas Data-----\n",
    "# reading, storing, subsetting\n",
    "landarea_file = '/glade/campaign/cgd/tss/projects/PPE/helpers/sparsegrid_landarea.nc'\n",
    "\n",
    "landarea_ds = xr.open_dataset(landarea_file)\n",
    "\n",
    "landarea = landarea_ds['landarea']\n",
    "\n",
    "#-------Dummy Variable Data---------\n",
    "# dummy data to have stored for preloaded visual on \n",
    "dummy_filepath = '/glade/campaign/cgd/tss/projects/PPE/PPEn11_OAAT/CTL2010/hist/PPEn11_CTL2010_OAAT0000.clm2.h0.2005-02-01-00000.nc'\n",
    "\n",
    "# dummy data described by filepath stored as ds\n",
    "ds = xr.open_dataset(dummy_filepath)\n",
    "\n",
    "# dummy variable data subset as data array. using LNC for linearity\n",
    "da = ds['LNC']\n",
    "\n",
    "#~~~~~~~~~~~~~~~~~~~~~~~~~~~~~~~~~~~~~~~~~~~~~\n",
    "# ----     correct time-parsing bug       ----\n",
    "#~~~~~~~~~~~~~~~~~~~~~~~~~~~~~~~~~~~~~~~~~~~~~\n",
    "def fix_time(da):\n",
    "    '''fix CESM monthly time-parsing bug'''\n",
    "    yr0 = str(da['time.year'][0].values)\n",
    "    da['time'] = xr.cftime_range(yr0,periods=len(da.time),freq='MS',calendar='noleap')\n",
    "    return da\n",
    "\n",
    "\n",
    "#~~~~~~~~~~~~~~~~~~~~~~~~~~~~~~~~~~~~~~~~~~~~~\n",
    "# ----  weigh dummy landarea by gridcell  ----\n",
    "#~~~~~~~~~~~~~~~~~~~~~~~~~~~~~~~~~~~~~~~~~~~~~\n",
    "#------Weight Gridcells by Landarea---\n",
    "def weight_landarea_gridcells(da,landarea):\n",
    "\n",
    "    # weigh landarea variable by mean of gridcell dimension\n",
    "    weighted_avg_area = da.weighted(landarea).mean(dim = 'gridcell')\n",
    "\n",
    "    return da   # QUESTION: Should we return ds so that we can call this later thru utils? (changed from weighted_avg_area)\n",
    "\n",
    "\n",
    "#~~~~~~~~~~~~~~~~~~~~~~~~~~~~~~~~~~~~~~~~~~~~~\n",
    "# ----     weigh dummy data time dim      ----\n",
    "#~~~~~~~~~~~~~~~~~~~~~~~~~~~~~~~~~~~~~~~~~~~~~\n",
    "#------Weighted Averages by Time---\n",
    "def yearly_weighted_average(da):\n",
    "    # Get the array of number of days from the main dataset\n",
    "    days_in_month = da['time.daysinmonth']\n",
    "\n",
    "    # Multiply each month's data by corresponding days in month\n",
    "    weighted_sum = (days_in_month*da).groupby(\"time.year\").sum(dim = 'time')\n",
    "\n",
    "    # Total days in the year\n",
    "    total_days = days_in_month.groupby(\"time.year\").sum(dim = 'time')\n",
    "\n",
    "    # Calculate weighted average for the year\n",
    "    da['time'] = weighted_sum / total_days            # QUESTION: Is this right?\n",
    "\n",
    "    return da"
   ]
  },
  {
   "cell_type": "code",
   "execution_count": null,
   "id": "d71b135d-b9ce-403b-a1dd-acfb0f0c19f6",
   "metadata": {},
   "outputs": [],
   "source": []
  },
  {
   "cell_type": "code",
   "execution_count": null,
   "id": "bdba364c-69aa-4e80-bcf8-39a27a5ccd53",
   "metadata": {},
   "outputs": [],
   "source": []
  },
  {
   "cell_type": "markdown",
   "id": "d16f7e23-68bf-44dd-b57f-9db8cdb3537f",
   "metadata": {},
   "source": [
    "### Function to Automate Global Avg Weighted Landarea by Gridcell\n"
   ]
  },
  {
   "cell_type": "code",
   "execution_count": null,
   "id": "9be3a6cc-dc0d-4887-ab10-733fd6609d7c",
   "metadata": {},
   "outputs": [],
   "source": [
    "filepath_example = '/glade/campaign/cgd/tss/projects/PPE/PPEn11_OAAT/CTL2010/hist/PPEn11_CTL2010_OAAT0000.clm2.h0.2005-02-01-00000.nc'\n",
    "\n",
    "#-------Gridcell Landareas Data-----\n",
    "\n",
    "# reading, storing, subsetting\n",
    "file2 = '/glade/campaign/cgd/tss/projects/PPE/helpers/sparsegrid_landarea.nc'\n",
    "ds2 = xr.open_dataset(file2)\n",
    "landarea = ds2['landarea']\n",
    "\n",
    "#-------Variable Data-----------------\n",
    "# variable data described by filepath stored as ds\n",
    "ds = xr.open_dataset(filepath_example)\n",
    "da = ds[variable]\n",
    "\n",
    "#------Weight Gridcells by Landarea---\n",
    "def weight_landarea_gridcells(da,landarea):\n",
    "    weighted_avg_area = da.weighted(landarea).mean(dim = 'gridcell')\n",
    "    return weighted_avg_area"
   ]
  },
  {
   "cell_type": "code",
   "execution_count": null,
   "id": "93db0b05-3830-4dbc-ad08-afa86e52466e",
   "metadata": {},
   "outputs": [],
   "source": [
    "weight_landarea_gridcells(da,landarea)"
   ]
  },
  {
   "cell_type": "markdown",
   "id": "af274f57-167e-4f8c-947c-f02237c3648e",
   "metadata": {},
   "source": [
    "### Function to Automate Weighted Time"
   ]
  },
  {
   "cell_type": "code",
   "execution_count": null,
   "id": "3659a073-10ab-408d-aa96-f784ede7e3e0",
   "metadata": {},
   "outputs": [],
   "source": [
    "def yearly_weighted_average(da):\n",
    "    # Get the array of number of days from the main dataset\n",
    "    days_in_month = da['time.daysinmonth']\n",
    "    weighted_sum = (days_in_month*da).groupby(\"time.year\").sum(dim = 'time') # Multiply each month's data by corresponding days in month\n",
    "    total_days = days_in_month.groupby(\"time.year\").sum(dim = 'time')  # Total days in the year\n",
    "    return weighted_sum / total_days  # Calculate weighted average for the year"
   ]
  },
  {
   "cell_type": "code",
   "execution_count": null,
   "id": "8e2b4ba2-4f71-465c-92d3-2558b730c8df",
   "metadata": {},
   "outputs": [],
   "source": [
    "yearly_weighted_average(da)"
   ]
  },
  {
   "cell_type": "code",
   "execution_count": null,
   "id": "2613f5d6-f197-4395-b275-12335b2a8973",
   "metadata": {},
   "outputs": [],
   "source": [
    "filepath_example = '/glade/campaign/cgd/tss/projects/PPE/PPEn11_OAAT/CTL2010/hist/PPEn11_CTL2010_OAAT0000.clm2.h0.2005-02-01-00000.nc'\n",
    "ds = xr.open_dataset(filepath_example)"
   ]
  },
  {
   "cell_type": "code",
   "execution_count": null,
   "id": "0209a713-df5a-4ff1-8eb9-2da872ba30fb",
   "metadata": {},
   "outputs": [],
   "source": [
    "ds.TSA.dims"
   ]
  },
  {
   "cell_type": "code",
   "execution_count": null,
   "id": "5cd355d5-1a9e-4172-9dac-d6dbd3a508e0",
   "metadata": {},
   "outputs": [],
   "source": [
    "file2 = '/glade/campaign/cgd/tss/projects/PPE/helpers/sparsegrid_landarea.nc'\n",
    "ds2 = xr.open_dataset(file2)\n",
    "landarea = ds2['landarea']\n",
    "weighted_avg_area = ds.TSA.weighted(landarea).mean(dim = 'gridcell')\n",
    "weighted_avg_area"
   ]
  },
  {
   "cell_type": "code",
   "execution_count": null,
   "id": "103545f7-bd68-45ae-a4bd-1b8a43afa0ab",
   "metadata": {},
   "outputs": [],
   "source": [
    "(1/landarea.sum())*(landarea*ds.TSA).sum(dim = 'gridcell')"
   ]
  },
  {
   "cell_type": "code",
   "execution_count": null,
   "id": "86ad8a4a-97ab-4e24-acdd-6e599d8be296",
   "metadata": {},
   "outputs": [],
   "source": [
    "# dummy variable filepath for TSA,\n",
    "filepath_example = '/glade/campaign/cgd/tss/projects/PPE/PPEn11_OAAT/CTL2010/hist/PPEn11_CTL2010_OAAT0000.clm2.h0.2005-02-01-00000.nc'\n",
    "\n",
    "# testing our function works!\n",
    "ds = weight_landarea_gridcells(filepath_example)\n",
    "ds"
   ]
  },
  {
   "cell_type": "code",
   "execution_count": null,
   "id": "72ee3d38-2b0d-4230-b6dc-de7ef15f2040",
   "metadata": {},
   "outputs": [],
   "source": [
    "\n",
    "# subsetting dummy variable\n",
    "tsa = ds['TSA']\n",
    "\n",
    "# calculate global mean over time\n",
    "tsa_avg = tsa.mean(dim = 'time')\n",
    "\n",
    "# plot mean tsa overtime of weighted gridcells\n",
    "plt.figure(figsize = (9,4))\n",
    "plt.scatter(ds.grid1d_lon,\n",
    "            ds.grid1d_lat,\n",
    "            c = tsa_avg,\n",
    "           cmap = 'RdPu',\n",
    "           alpha = 0.5)\n",
    "plt.xlabel('Longitude')\n",
    "plt.ylabel('Latitude')\n",
    "plt.title('Default Simulation: OAAT0000')\n",
    "plt.colorbar(label = 'Average TSA: 2m air temperature (K)')"
   ]
  },
  {
   "cell_type": "code",
   "execution_count": null,
   "id": "6eea4be8-21e0-417a-92ae-0b3eeb0e9e3a",
   "metadata": {},
   "outputs": [],
   "source": [
    "ds.info()"
   ]
  },
  {
   "cell_type": "markdown",
   "id": "0c4d58f3-133f-4033-8121-18f8bfed8a8c",
   "metadata": {},
   "source": [
    "##### Visualization"
   ]
  },
  {
   "cell_type": "markdown",
   "id": "8592a5a2-bc27-46b2-8488-55797cee000b",
   "metadata": {},
   "source": [
    "##### Avg TSA \n",
    "\n",
    "Want to take the mean of variable `TSA` so we can use this as a variable to color map with later."
   ]
  },
  {
   "cell_type": "code",
   "execution_count": null,
   "id": "dc615f02-5a4e-4a33-b0cf-b01c3ba87a6d",
   "metadata": {},
   "outputs": [],
   "source": [
    "tsa = ds['TSA']\n",
    "\n",
    "tsa"
   ]
  },
  {
   "cell_type": "code",
   "execution_count": null,
   "id": "6c1c3d14-c185-4845-8fb9-acd5a4cea4ca",
   "metadata": {},
   "outputs": [],
   "source": [
    "tsa_avg = tsa.mean(dim = 'time')"
   ]
  },
  {
   "cell_type": "code",
   "execution_count": null,
   "id": "6becaeab-4197-4790-9cd2-8a08d757f08b",
   "metadata": {},
   "outputs": [],
   "source": [
    "plt.figure(figsize = (9,4))\n",
    "plt.scatter(ds.grid1d_lon,\n",
    "            ds.grid1d_lat,\n",
    "            c = tsa_avg,\n",
    "           cmap = 'RdPu',\n",
    "           alpha = 0.5)\n",
    "plt.xlabel('Longitude')\n",
    "plt.ylabel('Latitude')\n",
    "plt.title('Default Simulation: OAAT0000')\n",
    "plt.colorbar(label = 'Average TSA: 2m air temperature (K)')"
   ]
  },
  {
   "cell_type": "code",
   "execution_count": null,
   "id": "15b97b2c-1a86-4661-a22d-b075e7e66a8e",
   "metadata": {},
   "outputs": [],
   "source": [
    "# subsetting dummy variable\n",
    "tsa = ds['TSA']\n",
    "\n",
    "# calculate global mean over time\n",
    "tsa_avg = tsa.mean(dim = 'time')\n",
    "\n",
    "# plot mean tsa overtime of weighted gridcells\n",
    "plt.figure(figsize = (9,4))\n",
    "plt.scatter(ds.grid1d_lon,\n",
    "            ds.grid1d_lat,\n",
    "            c = tsa_avg,\n",
    "           cmap = 'RdPu',\n",
    "           alpha = 0.5)\n",
    "plt.xlabel('Longitude')\n",
    "plt.ylabel('Latitude')\n",
    "plt.title('Default Simulation: OAAT0000')\n",
    "plt.colorbar(label = 'Average TSA: 2m air temperature (K)')"
   ]
  }
 ],
 "metadata": {
  "kernelspec": {
   "display_name": "Python 3 (ipykernel)",
   "language": "python",
   "name": "python3"
  },
  "language_info": {
   "codemirror_mode": {
    "name": "ipython",
    "version": 3
   },
   "file_extension": ".py",
   "mimetype": "text/x-python",
   "name": "python",
   "nbconvert_exporter": "python",
   "pygments_lexer": "ipython3",
   "version": "3.10.13"
  }
 },
 "nbformat": 4,
 "nbformat_minor": 5
}
