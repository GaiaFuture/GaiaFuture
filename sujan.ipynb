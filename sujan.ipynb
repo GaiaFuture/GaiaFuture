{
 "cells": [
  {
   "cell_type": "code",
   "execution_count": 14,
   "id": "6d82ea18-f279-4085-a8e1-0c5cdc3516aa",
   "metadata": {},
   "outputs": [],
   "source": [
    "#import all necessary functions for working with ncdata\n",
    "import xarray as xr\n",
    "import matplotlib.pyplot as plt\n",
    "import seaborn as sns\n",
    "import numpy as np"
   ]
  },
  {
   "cell_type": "code",
   "execution_count": 9,
   "id": "1ceca01f-caac-4ef3-ab17-6ecb85359843",
   "metadata": {},
   "outputs": [],
   "source": [
    "## read the data and stored in variable latin_hypercube\n",
    "file='/glade/campaign/cgd/tss/projects/PPE/PPEn11_OAAT/CTL2010/hist/PPEn11_CTL2010_OAAT0000.clm2.h0.2005-02-01-00000.nc'\n",
    "latin_hypercube = xr.open_dataset(file)"
   ]
  },
  {
   "cell_type": "code",
   "execution_count": 57,
   "id": "98edfaa3-9245-4747-a0f2-8329c6044df0",
   "metadata": {
    "scrolled": true
   },
   "outputs": [
    {
     "name": "stdin",
     "output_type": "stream",
     "text": [
      "Please enter the variable you are interested in:  TSA\n"
     ]
    },
    {
     "ename": "NameError",
     "evalue": "name 'global_mean' is not defined",
     "output_type": "error",
     "traceback": [
      "\u001b[0;31m---------------------------------------------------------------------------\u001b[0m",
      "\u001b[0;31mNameError\u001b[0m                                 Traceback (most recent call last)",
      "Cell \u001b[0;32mIn[57], line 32\u001b[0m\n\u001b[1;32m     29\u001b[0m     \u001b[38;5;66;03m#global_mean = variable_grouped / latin_hypercube['time.daysinmonth'].groupby('time.year').sum(dim='time')\u001b[39;00m\n\u001b[1;32m     30\u001b[0m     \u001b[38;5;28;01mreturn\u001b[39;00m global_mean\n\u001b[0;32m---> 32\u001b[0m \u001b[38;5;28mprint\u001b[39m(\u001b[43mglobal_mean\u001b[49m)\n",
      "\u001b[0;31mNameError\u001b[0m: name 'global_mean' is not defined"
     ]
    }
   ],
   "source": [
    "#write the function that asks users the input and then uses that input into new function\n",
    "\n",
    "####step 1\n",
    " #ask user for the input\n",
    "def get_user_input():\n",
    "    # Ask the user for a variable name for which function calculates weighted average\n",
    "    variable = input(\"Please enter the variable you are interested in: \")\n",
    "    return variable\n",
    "    \n",
    "####step 2\n",
    " #store the user input\n",
    "user_input = get_user_input()\n",
    "\n",
    "####step 3\n",
    " #pass the user_input to the function that calculates average\n",
    "def calculate_global_monthly_average(variable_name = user_input):\n",
    "\n",
    "    ## read the dataset\n",
    "    dataset = latin_hypercube\n",
    "    \n",
    "    ## changed any stored variable name to array\n",
    "    variable  = dataset[f'\"{variable_name}\"']\n",
    "\n",
    "   # Calculate the weighted mean for each year\n",
    "    global_mean = variable.groupby(\"time.year\").apply(\n",
    "        lambda x: np.average(x, axis=x.get_axis_num('time'), weights=x['time.daysinmonth']) #this line does not work, working on it \n",
    "    )\n",
    "    \n",
    "    #global_mean = variable_grouped / latin_hypercube['time.daysinmonth'].groupby('time.year').sum(dim='time')\n",
    "    return global_mean\n",
    "\n",
    "print(global_mean)"
   ]
  },
  {
   "cell_type": "code",
   "execution_count": 58,
   "id": "c0299035-35ae-4a4e-81ce-7e650026db47",
   "metadata": {},
   "outputs": [
    {
     "ename": "AttributeError",
     "evalue": "'Dataset' object has no attribute 'get_axis_num'",
     "output_type": "error",
     "traceback": [
      "\u001b[0;31m---------------------------------------------------------------------------\u001b[0m",
      "\u001b[0;31mAttributeError\u001b[0m                            Traceback (most recent call last)",
      "Cell \u001b[0;32mIn[58], line 7\u001b[0m\n\u001b[1;32m      1\u001b[0m \u001b[38;5;66;03m# some data exploration function for looking into data\u001b[39;00m\n\u001b[1;32m      2\u001b[0m \u001b[38;5;66;03m# variable_grouped = latin_hypercube['TSA'].groupby(\"time.dayofyear\").mean(dim=['time'])\u001b[39;00m\n\u001b[1;32m      3\u001b[0m \u001b[38;5;66;03m# print(variable_grouped)\u001b[39;00m\n\u001b[1;32m      4\u001b[0m \n\u001b[1;32m      5\u001b[0m  \u001b[38;5;66;03m## changed any stored variable name to array\u001b[39;00m\n\u001b[1;32m      6\u001b[0m \u001b[38;5;66;03m#dataset['TSA']\u001b[39;00m\n\u001b[0;32m----> 7\u001b[0m \u001b[43mlatin_hypercube\u001b[49m\u001b[38;5;241;43m.\u001b[39;49m\u001b[43mgroupby\u001b[49m\u001b[43m(\u001b[49m\u001b[38;5;124;43m\"\u001b[39;49m\u001b[38;5;124;43mtime.year\u001b[39;49m\u001b[38;5;124;43m\"\u001b[39;49m\u001b[43m)\u001b[49m\u001b[38;5;241;43m.\u001b[39;49m\u001b[43mapply\u001b[49m\u001b[43m(\u001b[49m\n\u001b[1;32m      8\u001b[0m \u001b[43m        \u001b[49m\u001b[38;5;28;43;01mlambda\u001b[39;49;00m\u001b[43m \u001b[49m\u001b[43mx\u001b[49m\u001b[43m:\u001b[49m\u001b[43m \u001b[49m\u001b[43mnp\u001b[49m\u001b[38;5;241;43m.\u001b[39;49m\u001b[43maverage\u001b[49m\u001b[43m(\u001b[49m\u001b[43mx\u001b[49m\u001b[43m,\u001b[49m\u001b[43m \u001b[49m\u001b[43maxis\u001b[49m\u001b[38;5;241;43m=\u001b[39;49m\u001b[43mx\u001b[49m\u001b[38;5;241;43m.\u001b[39;49m\u001b[43mget_axis_num\u001b[49m\u001b[43m(\u001b[49m\u001b[38;5;124;43m'\u001b[39;49m\u001b[38;5;124;43mtime\u001b[39;49m\u001b[38;5;124;43m'\u001b[39;49m\u001b[43m)\u001b[49m\u001b[43m,\u001b[49m\u001b[43m \u001b[49m\u001b[43mweights\u001b[49m\u001b[38;5;241;43m=\u001b[39;49m\u001b[43mx\u001b[49m\u001b[43m[\u001b[49m\u001b[38;5;124;43m'\u001b[39;49m\u001b[38;5;124;43mtime.daysinmonth\u001b[39;49m\u001b[38;5;124;43m'\u001b[39;49m\u001b[43m]\u001b[49m\u001b[43m)\u001b[49m\n\u001b[1;32m      9\u001b[0m \u001b[43m    \u001b[49m\u001b[43m)\u001b[49m\n\u001b[1;32m     11\u001b[0m     \u001b[38;5;66;03m#group the data annually\u001b[39;00m\n\u001b[1;32m     12\u001b[0m     \u001b[38;5;66;03m#variable_grouped = variable.groupby(\"time.year\") \u001b[39;00m\n",
      "File \u001b[0;32m/glade/work/sbhattarai/conda-envs/meds-py/lib/python3.11/site-packages/xarray/core/groupby.py:1579\u001b[0m, in \u001b[0;36mDatasetGroupByBase.apply\u001b[0;34m(self, func, args, shortcut, **kwargs)\u001b[0m\n\u001b[1;32m   1566\u001b[0m \u001b[38;5;250m\u001b[39m\u001b[38;5;124;03m\"\"\"\u001b[39;00m\n\u001b[1;32m   1567\u001b[0m \u001b[38;5;124;03mBackward compatible implementation of ``map``\u001b[39;00m\n\u001b[1;32m   1568\u001b[0m \n\u001b[0;32m   (...)\u001b[0m\n\u001b[1;32m   1571\u001b[0m \u001b[38;5;124;03mDatasetGroupBy.map\u001b[39;00m\n\u001b[1;32m   1572\u001b[0m \u001b[38;5;124;03m\"\"\"\u001b[39;00m\n\u001b[1;32m   1574\u001b[0m warnings\u001b[38;5;241m.\u001b[39mwarn(\n\u001b[1;32m   1575\u001b[0m     \u001b[38;5;124m\"\u001b[39m\u001b[38;5;124mGroupBy.apply may be deprecated in the future. Using GroupBy.map is encouraged\u001b[39m\u001b[38;5;124m\"\u001b[39m,\n\u001b[1;32m   1576\u001b[0m     \u001b[38;5;167;01mPendingDeprecationWarning\u001b[39;00m,\n\u001b[1;32m   1577\u001b[0m     stacklevel\u001b[38;5;241m=\u001b[39m\u001b[38;5;241m2\u001b[39m,\n\u001b[1;32m   1578\u001b[0m )\n\u001b[0;32m-> 1579\u001b[0m \u001b[38;5;28;01mreturn\u001b[39;00m \u001b[38;5;28;43mself\u001b[39;49m\u001b[38;5;241;43m.\u001b[39;49m\u001b[43mmap\u001b[49m\u001b[43m(\u001b[49m\u001b[43mfunc\u001b[49m\u001b[43m,\u001b[49m\u001b[43m \u001b[49m\u001b[43mshortcut\u001b[49m\u001b[38;5;241;43m=\u001b[39;49m\u001b[43mshortcut\u001b[49m\u001b[43m,\u001b[49m\u001b[43m \u001b[49m\u001b[43margs\u001b[49m\u001b[38;5;241;43m=\u001b[39;49m\u001b[43margs\u001b[49m\u001b[43m,\u001b[49m\u001b[43m \u001b[49m\u001b[38;5;241;43m*\u001b[39;49m\u001b[38;5;241;43m*\u001b[39;49m\u001b[43mkwargs\u001b[49m\u001b[43m)\u001b[49m\n",
      "File \u001b[0;32m/glade/work/sbhattarai/conda-envs/meds-py/lib/python3.11/site-packages/xarray/core/groupby.py:1563\u001b[0m, in \u001b[0;36mDatasetGroupByBase.map\u001b[0;34m(self, func, args, shortcut, **kwargs)\u001b[0m\n\u001b[1;32m   1561\u001b[0m \u001b[38;5;66;03m# ignore shortcut if set (for now)\u001b[39;00m\n\u001b[1;32m   1562\u001b[0m applied \u001b[38;5;241m=\u001b[39m (func(ds, \u001b[38;5;241m*\u001b[39margs, \u001b[38;5;241m*\u001b[39m\u001b[38;5;241m*\u001b[39mkwargs) \u001b[38;5;28;01mfor\u001b[39;00m ds \u001b[38;5;129;01min\u001b[39;00m \u001b[38;5;28mself\u001b[39m\u001b[38;5;241m.\u001b[39m_iter_grouped())\n\u001b[0;32m-> 1563\u001b[0m \u001b[38;5;28;01mreturn\u001b[39;00m \u001b[38;5;28;43mself\u001b[39;49m\u001b[38;5;241;43m.\u001b[39;49m\u001b[43m_combine\u001b[49m\u001b[43m(\u001b[49m\u001b[43mapplied\u001b[49m\u001b[43m)\u001b[49m\n",
      "File \u001b[0;32m/glade/work/sbhattarai/conda-envs/meds-py/lib/python3.11/site-packages/xarray/core/groupby.py:1583\u001b[0m, in \u001b[0;36mDatasetGroupByBase._combine\u001b[0;34m(self, applied)\u001b[0m\n\u001b[1;32m   1581\u001b[0m \u001b[38;5;28;01mdef\u001b[39;00m \u001b[38;5;21m_combine\u001b[39m(\u001b[38;5;28mself\u001b[39m, applied):\n\u001b[1;32m   1582\u001b[0m \u001b[38;5;250m    \u001b[39m\u001b[38;5;124;03m\"\"\"Recombine the applied objects like the original.\"\"\"\u001b[39;00m\n\u001b[0;32m-> 1583\u001b[0m     applied_example, applied \u001b[38;5;241m=\u001b[39m \u001b[43mpeek_at\u001b[49m\u001b[43m(\u001b[49m\u001b[43mapplied\u001b[49m\u001b[43m)\u001b[49m\n\u001b[1;32m   1584\u001b[0m     coord, dim, positions \u001b[38;5;241m=\u001b[39m \u001b[38;5;28mself\u001b[39m\u001b[38;5;241m.\u001b[39m_infer_concat_args(applied_example)\n\u001b[1;32m   1585\u001b[0m     combined \u001b[38;5;241m=\u001b[39m concat(applied, dim)\n",
      "File \u001b[0;32m/glade/work/sbhattarai/conda-envs/meds-py/lib/python3.11/site-packages/xarray/core/utils.py:193\u001b[0m, in \u001b[0;36mpeek_at\u001b[0;34m(iterable)\u001b[0m\n\u001b[1;32m    189\u001b[0m \u001b[38;5;250m\u001b[39m\u001b[38;5;124;03m\"\"\"Returns the first value from iterable, as well as a new iterator with\u001b[39;00m\n\u001b[1;32m    190\u001b[0m \u001b[38;5;124;03mthe same content as the original iterable\u001b[39;00m\n\u001b[1;32m    191\u001b[0m \u001b[38;5;124;03m\"\"\"\u001b[39;00m\n\u001b[1;32m    192\u001b[0m gen \u001b[38;5;241m=\u001b[39m \u001b[38;5;28miter\u001b[39m(iterable)\n\u001b[0;32m--> 193\u001b[0m peek \u001b[38;5;241m=\u001b[39m \u001b[38;5;28;43mnext\u001b[39;49m\u001b[43m(\u001b[49m\u001b[43mgen\u001b[49m\u001b[43m)\u001b[49m\n\u001b[1;32m    194\u001b[0m \u001b[38;5;28;01mreturn\u001b[39;00m peek, itertools\u001b[38;5;241m.\u001b[39mchain([peek], gen)\n",
      "File \u001b[0;32m/glade/work/sbhattarai/conda-envs/meds-py/lib/python3.11/site-packages/xarray/core/groupby.py:1562\u001b[0m, in \u001b[0;36m<genexpr>\u001b[0;34m(.0)\u001b[0m\n\u001b[1;32m   1532\u001b[0m \u001b[38;5;250m\u001b[39m\u001b[38;5;124;03m\"\"\"Apply a function to each Dataset in the group and concatenate them\u001b[39;00m\n\u001b[1;32m   1533\u001b[0m \u001b[38;5;124;03mtogether into a new Dataset.\u001b[39;00m\n\u001b[1;32m   1534\u001b[0m \n\u001b[0;32m   (...)\u001b[0m\n\u001b[1;32m   1559\u001b[0m \u001b[38;5;124;03m    The result of splitting, applying and combining this dataset.\u001b[39;00m\n\u001b[1;32m   1560\u001b[0m \u001b[38;5;124;03m\"\"\"\u001b[39;00m\n\u001b[1;32m   1561\u001b[0m \u001b[38;5;66;03m# ignore shortcut if set (for now)\u001b[39;00m\n\u001b[0;32m-> 1562\u001b[0m applied \u001b[38;5;241m=\u001b[39m (\u001b[43mfunc\u001b[49m\u001b[43m(\u001b[49m\u001b[43mds\u001b[49m\u001b[43m,\u001b[49m\u001b[43m \u001b[49m\u001b[38;5;241;43m*\u001b[39;49m\u001b[43margs\u001b[49m\u001b[43m,\u001b[49m\u001b[43m \u001b[49m\u001b[38;5;241;43m*\u001b[39;49m\u001b[38;5;241;43m*\u001b[39;49m\u001b[43mkwargs\u001b[49m\u001b[43m)\u001b[49m \u001b[38;5;28;01mfor\u001b[39;00m ds \u001b[38;5;129;01min\u001b[39;00m \u001b[38;5;28mself\u001b[39m\u001b[38;5;241m.\u001b[39m_iter_grouped())\n\u001b[1;32m   1563\u001b[0m \u001b[38;5;28;01mreturn\u001b[39;00m \u001b[38;5;28mself\u001b[39m\u001b[38;5;241m.\u001b[39m_combine(applied)\n",
      "Cell \u001b[0;32mIn[58], line 8\u001b[0m, in \u001b[0;36m<lambda>\u001b[0;34m(x)\u001b[0m\n\u001b[1;32m      1\u001b[0m \u001b[38;5;66;03m# some data exploration function for looking into data\u001b[39;00m\n\u001b[1;32m      2\u001b[0m \u001b[38;5;66;03m# variable_grouped = latin_hypercube['TSA'].groupby(\"time.dayofyear\").mean(dim=['time'])\u001b[39;00m\n\u001b[1;32m      3\u001b[0m \u001b[38;5;66;03m# print(variable_grouped)\u001b[39;00m\n\u001b[1;32m      4\u001b[0m \n\u001b[1;32m      5\u001b[0m  \u001b[38;5;66;03m## changed any stored variable name to array\u001b[39;00m\n\u001b[1;32m      6\u001b[0m \u001b[38;5;66;03m#dataset['TSA']\u001b[39;00m\n\u001b[1;32m      7\u001b[0m latin_hypercube\u001b[38;5;241m.\u001b[39mgroupby(\u001b[38;5;124m\"\u001b[39m\u001b[38;5;124mtime.year\u001b[39m\u001b[38;5;124m\"\u001b[39m)\u001b[38;5;241m.\u001b[39mapply(\n\u001b[0;32m----> 8\u001b[0m         \u001b[38;5;28;01mlambda\u001b[39;00m x: np\u001b[38;5;241m.\u001b[39maverage(x, axis\u001b[38;5;241m=\u001b[39m\u001b[43mx\u001b[49m\u001b[38;5;241;43m.\u001b[39;49m\u001b[43mget_axis_num\u001b[49m(\u001b[38;5;124m'\u001b[39m\u001b[38;5;124mtime\u001b[39m\u001b[38;5;124m'\u001b[39m), weights\u001b[38;5;241m=\u001b[39mx[\u001b[38;5;124m'\u001b[39m\u001b[38;5;124mtime.daysinmonth\u001b[39m\u001b[38;5;124m'\u001b[39m])\n\u001b[1;32m      9\u001b[0m     )\n\u001b[1;32m     11\u001b[0m     \u001b[38;5;66;03m#group the data annually\u001b[39;00m\n\u001b[1;32m     12\u001b[0m     \u001b[38;5;66;03m#variable_grouped = variable.groupby(\"time.year\") \u001b[39;00m\n",
      "File \u001b[0;32m/glade/work/sbhattarai/conda-envs/meds-py/lib/python3.11/site-packages/xarray/core/common.py:280\u001b[0m, in \u001b[0;36mAttrAccessMixin.__getattr__\u001b[0;34m(self, name)\u001b[0m\n\u001b[1;32m    278\u001b[0m         \u001b[38;5;28;01mwith\u001b[39;00m suppress(\u001b[38;5;167;01mKeyError\u001b[39;00m):\n\u001b[1;32m    279\u001b[0m             \u001b[38;5;28;01mreturn\u001b[39;00m source[name]\n\u001b[0;32m--> 280\u001b[0m \u001b[38;5;28;01mraise\u001b[39;00m \u001b[38;5;167;01mAttributeError\u001b[39;00m(\n\u001b[1;32m    281\u001b[0m     \u001b[38;5;124mf\u001b[39m\u001b[38;5;124m\"\u001b[39m\u001b[38;5;132;01m{\u001b[39;00m\u001b[38;5;28mtype\u001b[39m(\u001b[38;5;28mself\u001b[39m)\u001b[38;5;241m.\u001b[39m\u001b[38;5;18m__name__\u001b[39m\u001b[38;5;132;01m!r}\u001b[39;00m\u001b[38;5;124m object has no attribute \u001b[39m\u001b[38;5;132;01m{\u001b[39;00mname\u001b[38;5;132;01m!r}\u001b[39;00m\u001b[38;5;124m\"\u001b[39m\n\u001b[1;32m    282\u001b[0m )\n",
      "\u001b[0;31mAttributeError\u001b[0m: 'Dataset' object has no attribute 'get_axis_num'"
     ]
    }
   ],
   "source": [
    "# some data exploration function for looking into data\n",
    "# variable_grouped = latin_hypercube['TSA'].groupby(\"time.dayofyear\").mean(dim=['time'])\n",
    "# print(variable_grouped)\n",
    "\n",
    " ## changed any stored variable name to array\n",
    "#dataset['TSA']\n",
    "latin_hypercube.groupby(\"time.year\").apply(\n",
    "        lambda x: np.average(x, axis=x.get_axis_num('time'), weights=x['time.daysinmonth'])\n",
    "    )\n",
    "\n",
    "    #group the data annually\n",
    "    #variable_grouped = variable.groupby(\"time.year\") "
   ]
  },
  {
   "cell_type": "code",
   "execution_count": 55,
   "id": "3e329ee4-ccb0-414a-aeec-cef7af132ca1",
   "metadata": {},
   "outputs": [
    {
     "ename": "NameError",
     "evalue": "name 'sujan' is not defined",
     "output_type": "error",
     "traceback": [
      "\u001b[0;31m---------------------------------------------------------------------------\u001b[0m",
      "\u001b[0;31mNameError\u001b[0m                                 Traceback (most recent call last)",
      "Cell \u001b[0;32mIn[55], line 1\u001b[0m\n\u001b[0;32m----> 1\u001b[0m \u001b[38;5;28mstr\u001b[39m(\u001b[43msujan\u001b[49m)\n",
      "\u001b[0;31mNameError\u001b[0m: name 'sujan' is not defined"
     ]
    }
   ],
   "source": [
    "str(sujan)"
   ]
  },
  {
   "cell_type": "code",
   "execution_count": 8,
   "id": "b78144f6-b1d6-4f6a-a08a-d85cccd067ff",
   "metadata": {},
   "outputs": [
    {
     "data": {
      "text/plain": [
       "'sujan'"
      ]
     },
     "execution_count": 8,
     "metadata": {},
     "output_type": "execute_result"
    }
   ],
   "source": []
  },
  {
   "cell_type": "code",
   "execution_count": 10,
   "id": "90402ac7-246d-4849-a2a7-00e6e826f1a0",
   "metadata": {},
   "outputs": [
    {
     "name": "stdout",
     "output_type": "stream",
     "text": [
      "<xarray.Dataset>\n",
      "Dimensions:                            (levgrnd: 25, levsoi: 20, levlak: 10,\n",
      "                                        levdcmp: 25, year: 11, lon: 144,\n",
      "                                        lat: 96, gridcell: 400, landunit: 1148,\n",
      "                                        column: 2599, pft: 4387, cft: 2,\n",
      "                                        ltype: 9, nvegwcs: 4)\n",
      "Coordinates:\n",
      "  * levgrnd                            (levgrnd) float32 0.01 0.04 ... 42.0\n",
      "  * levsoi                             (levsoi) float32 0.01 0.04 ... 6.94 8.03\n",
      "  * levlak                             (levlak) float32 0.05 0.6 ... 34.33 44.78\n",
      "  * levdcmp                            (levdcmp) float32 0.01 0.04 ... 42.0\n",
      "  * lon                                (lon) float32 0.0 2.5 5.0 ... 355.0 357.5\n",
      "  * lat                                (lat) float32 -90.0 -88.11 ... 88.11 90.0\n",
      "  * year                               (year) int64 2005 2006 2007 ... 2014 2015\n",
      "Dimensions without coordinates: gridcell, landunit, column, pft, cft, ltype,\n",
      "                                nvegwcs\n",
      "Data variables: (12/494)\n",
      "    mcdate                             (year) float64 2.005e+07 ... 2.015e+07\n",
      "    mcsec                              (year) float64 0.0 0.0 0.0 ... 0.0 0.0\n",
      "    mdcur                              (year) float64 181.6 531.5 ... 3.65e+03\n",
      "    mscur                              (year) float64 0.0 0.0 0.0 ... 0.0 0.0\n",
      "    nstep                              (year) float64 8.719e+03 ... 1.752e+05\n",
      "    area                               (year, lat, lon) float32 nan nan ... nan\n",
      "    ...                                 ...\n",
      "    XSMRPOOL                           (year, gridcell) float32 -50.36 ... -0...\n",
      "    XSMRPOOL_RECOVER                   (year, gridcell) float32 6.967e-06 ......\n",
      "    ZBOT                               (year, gridcell) float32 30.0 ... 30.0\n",
      "    ZWT                                (year, gridcell) float32 1.084 ... 8.6\n",
      "    ZWT_CH4_UNSAT                      (year, gridcell) float32 7.01 ... 0.0\n",
      "    ZWT_PERCH                          (year, gridcell) float32 7.283 ... 0.01\n",
      "Attributes: (12/40)\n",
      "    title:                                     CLM History file information\n",
      "    comment:                                   NOTE: None of the variables ar...\n",
      "    Conventions:                               CF-1.0\n",
      "    history:                                   created on 09/06/23 02:33:14\n",
      "    source:                                    Community Terrestrial Systems ...\n",
      "    hostname:                                  cheyenne\n",
      "    ...                                        ...\n",
      "    ctype_urban_pervious_road:                 75\n",
      "    cft_c3_crop:                               1\n",
      "    cft_c3_irrigated:                          2\n",
      "    time_period_freq:                          month_1\n",
      "    Time_constant_3Dvars_filename:             ./PPEn11_CTL2010_OAAT0000.clm2...\n",
      "    Time_constant_3Dvars:                      ZSOI:DZSOI:WATSAT:SUCSAT:BSW:H...\n"
     ]
    }
   ],
   "source": [
    "#test function on a dummy variable\n",
    "global_mean = calculate_global_monthly_average('TSA')\n",
    "print(global_mean)"
   ]
  },
  {
   "cell_type": "markdown",
   "id": "4fefe36f-e85c-45d7-83dc-0096220a8f75",
   "metadata": {},
   "source": [
    "some highlights to see data variables\n",
    "- latin_hypercube.data_vars\n",
    "- latin_hypercube.attrs\n",
    "- latin_hypercube.time\n",
    "- latin_hypercube.time.shape\n"
   ]
  }
 ],
 "metadata": {
  "kernelspec": {
   "display_name": "Python [conda env:meds-py]",
   "language": "python",
   "name": "conda-env-meds-py-py"
  },
  "language_info": {
   "codemirror_mode": {
    "name": "ipython",
    "version": 3
   },
   "file_extension": ".py",
   "mimetype": "text/x-python",
   "name": "python",
   "nbconvert_exporter": "python",
   "pygments_lexer": "ipython3",
   "version": "3.11.7"
  }
 },
 "nbformat": 4,
 "nbformat_minor": 5
}
