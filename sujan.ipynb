{
 "cells": [
  {
   "cell_type": "code",
   "execution_count": 1,
   "id": "6d82ea18-f279-4085-a8e1-0c5cdc3516aa",
   "metadata": {},
   "outputs": [],
   "source": [
    "#import all necessary functions for working with ncdata\n",
    "import xarray as xr\n",
    "import matplotlib.pyplot as plt\n",
    "import seaborn as sns\n",
    "import numpy as np"
   ]
  },
  {
   "cell_type": "code",
   "execution_count": 2,
   "id": "1ceca01f-caac-4ef3-ab17-6ecb85359843",
   "metadata": {},
   "outputs": [],
   "source": [
    "## read the data and stored in variable latin_hypercube\n",
    "file='/glade/campaign/cgd/tss/projects/PPE/PPEn11_OAAT/CTL2010/hist/PPEn11_CTL2010_OAAT0000.clm2.h0.2005-02-01-00000.nc'\n",
    "latin_hypercube = xr.open_dataset(file)\n"
   ]
  },
  {
   "cell_type": "code",
   "execution_count": 4,
   "id": "98edfaa3-9245-4747-a0f2-8329c6044df0",
   "metadata": {
    "scrolled": true
   },
   "outputs": [
    {
     "name": "stdin",
     "output_type": "stream",
     "text": [
      "Please enter the variable you are interested in:  TSA\n"
     ]
    },
    {
     "name": "stdout",
     "output_type": "stream",
     "text": [
      "<xarray.DataArray (year: 11)>\n",
      "array([310.13600211, 309.05357806, 309.32211302, 309.00487914,\n",
      "       309.00100719, 309.34162332, 308.99670943, 309.13389794,\n",
      "       308.86898827, 309.06366198, 300.97455244])\n",
      "Coordinates:\n",
      "  * year     (year) int64 2005 2006 2007 2008 2009 2010 2011 2012 2013 2014 2015\n"
     ]
    }
   ],
   "source": [
    "# Step 1: Ask user for input\n",
    "def get_user_input():\n",
    "    # Ask the user for a variable name for which function calculates weighted average\n",
    "    variable = input(\"Please enter the variable you are interested in: \")\n",
    "    return variable\n",
    "    \n",
    "# Step 2: Store the user input\n",
    "user_input = get_user_input()\n",
    "\n",
    "# Step 3: Pass the user_input to the function that calculates average\n",
    "def calculate_global_monthly_average(user_input):\n",
    "    \"\"\"Calculate the global monthly average based on the user input variable.\"\"\"\n",
    "    global latin_hypercube  # If dataset is a global variable and not passed as an argument\n",
    "    # Changed any stored variable name to array\n",
    "    variable_array = latin_hypercube[user_input]\n",
    "\n",
    "    # Get the array of number of days from the main dataset\n",
    "    days_in_month = variable_array['time.daysinmonth']\n",
    "\n",
    "    # Group the data by year\n",
    "    grouped_data = variable_array.groupby(\"time.year\")\n",
    "\n",
    "    # Define a function to calculate yearly weighted average\n",
    "    def yearly_weighted_average(group):\n",
    "        weighted_sum = ((group * days_in_month.loc[group.time.values]).sum() / 365) # Multiply each month's data by corresponding days in month\n",
    "        total_days = days_in_month.loc[group.time.values].sum()  # Total days in the year\n",
    "        return weighted_sum / total_days  # Calculate weighted average for the year\n",
    "\n",
    "    # Apply the yearly weighted average function to each group\n",
    "    yearly_average = grouped_data.apply(yearly_weighted_average)\n",
    "\n",
    "    return yearly_average\n",
    "\n",
    "# Step 4: Call the function with user input and print the result\n",
    "result = calculate_global_monthly_average(user_input)\n",
    "print(result)\n"
   ]
  },
  {
   "cell_type": "code",
   "execution_count": null,
   "id": "1847744b-9ace-4914-9297-6cd5ae26ad1a",
   "metadata": {},
   "outputs": [],
   "source": [
    "## test for a variable\n",
    "calculate_global_monthly_average()"
   ]
  },
  {
   "cell_type": "code",
   "execution_count": null,
   "id": "c0299035-35ae-4a4e-81ce-7e650026db47",
   "metadata": {},
   "outputs": [],
   "source": [
    "#  ## testing line by line codes\n",
    "# dataset = latin_hypercube\n",
    "# variable  = dataset[\"TSA\"]\n",
    "# variable.groupby('time.month').mean('time')\n",
    "# x = variable.groupby('time.year')\n",
    "\n",
    "# days_in_month =  dataset['time.daysinmonth']\n",
    "# dataset.groupby(\"time.year\").apply(lambda x: (x * days_in_month).sum())\n"
   ]
  }
 ],
 "metadata": {
  "kernelspec": {
   "display_name": "Python [conda env:meds-py]",
   "language": "python",
   "name": "conda-env-meds-py-py"
  },
  "language_info": {
   "codemirror_mode": {
    "name": "ipython",
    "version": 3
   },
   "file_extension": ".py",
   "mimetype": "text/x-python",
   "name": "python",
   "nbconvert_exporter": "python",
   "pygments_lexer": "ipython3",
   "version": "3.11.7"
  }
 },
 "nbformat": 4,
 "nbformat_minor": 5
}
