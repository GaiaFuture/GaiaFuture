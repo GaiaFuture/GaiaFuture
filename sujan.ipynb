{
 "cells": [
  {
   "cell_type": "code",
   "execution_count": 1,
   "id": "6d82ea18-f279-4085-a8e1-0c5cdc3516aa",
   "metadata": {},
   "outputs": [],
   "source": [
    "#import all necessary functions for working with ncdata\n",
    "import xarray as xr\n",
    "import matplotlib.pyplot as plt\n",
    "import seaborn as sns"
   ]
  },
  {
   "cell_type": "code",
   "execution_count": 2,
   "id": "1ceca01f-caac-4ef3-ab17-6ecb85359843",
   "metadata": {},
   "outputs": [],
   "source": [
    "file='/glade/campaign/cgd/tss/projects/PPE/PPEn11_OAAT/CTL2010/hist/PPEn11_CTL2010_OAAT0000.clm2.h0.2005-02-01-00000.nc'\n",
    "latin_hypercube = xr.open_dataset(file)"
   ]
  },
  {
   "cell_type": "code",
   "execution_count": 9,
   "id": "98edfaa3-9245-4747-a0f2-8329c6044df0",
   "metadata": {
    "scrolled": true
   },
   "outputs": [],
   "source": [
    "## write a function to calculate the global monthly average\n",
    "def calculate_global_monthly_average(variable_name):\n",
    "    \n",
    "    # Assuming the variable is named 'TSA'\n",
    "    latin_hypercube[variable_name]\n",
    "\n",
    "    #group by the time-year variable\n",
    "    variable_grouped = latin_hypercube.groupby(\"time.year\")  #\"time.daysinmonth\"\n",
    "    \n",
    "    # Calculate the global  by averaging over the time dimension\n",
    "    global_mean = variable_grouped.mean(dim=['time'])\n",
    "\n",
    "    #global_mean = variable_grouped / latin_hypercube['time.daysinmonth'].groupby('time.year').sum(dim='time')\n",
    "\n",
    "    return global_mean\n"
   ]
  },
  {
   "cell_type": "code",
   "execution_count": 4,
   "id": "c0299035-35ae-4a4e-81ce-7e650026db47",
   "metadata": {},
   "outputs": [
    {
     "name": "stdout",
     "output_type": "stream",
     "text": [
      "<xarray.DataArray 'TSA' (dayofyear: 12, gridcell: 400)>\n",
      "array([[280.35455, 280.79706, 281.84955, ..., 244.92363, 238.67293,\n",
      "        247.18417],\n",
      "       [281.5795 , 281.98813, 282.98163, ..., 242.4113 , 238.9751 ,\n",
      "        245.62778],\n",
      "       [281.21997, 281.5956 , 282.58746, ..., 241.37704, 237.77217,\n",
      "        244.59488],\n",
      "       ...,\n",
      "       [277.02295, 276.10452, 277.7879 , ..., 262.13184, 255.39279,\n",
      "        266.65143],\n",
      "       [278.5792 , 278.0467 , 279.51535, ..., 252.94087, 246.98494,\n",
      "        254.77347],\n",
      "       [279.07635, 279.23834, 280.43677, ..., 247.7491 , 242.35352,\n",
      "        249.06168]], dtype=float32)\n",
      "Coordinates:\n",
      "  * dayofyear  (dayofyear) int64 1 32 60 91 121 152 182 213 244 274 305 335\n",
      "Dimensions without coordinates: gridcell\n",
      "Attributes:\n",
      "    long_name:     2m air temperature\n",
      "    units:         K\n",
      "    cell_methods:  time: mean\n"
     ]
    }
   ],
   "source": [
    "# some data exploration function for looking into data\n",
    "variable_grouped = latin_hypercube['TSA'].groupby(\"time.dayofyear\").mean(dim=['time'])\n",
    "print(variable_grouped)"
   ]
  },
  {
   "cell_type": "code",
   "execution_count": 10,
   "id": "90402ac7-246d-4849-a2a7-00e6e826f1a0",
   "metadata": {},
   "outputs": [
    {
     "name": "stdout",
     "output_type": "stream",
     "text": [
      "<xarray.Dataset>\n",
      "Dimensions:                            (levgrnd: 25, levsoi: 20, levlak: 10,\n",
      "                                        levdcmp: 25, year: 11, lon: 144,\n",
      "                                        lat: 96, gridcell: 400, landunit: 1148,\n",
      "                                        column: 2599, pft: 4387, cft: 2,\n",
      "                                        ltype: 9, nvegwcs: 4)\n",
      "Coordinates:\n",
      "  * levgrnd                            (levgrnd) float32 0.01 0.04 ... 42.0\n",
      "  * levsoi                             (levsoi) float32 0.01 0.04 ... 6.94 8.03\n",
      "  * levlak                             (levlak) float32 0.05 0.6 ... 34.33 44.78\n",
      "  * levdcmp                            (levdcmp) float32 0.01 0.04 ... 42.0\n",
      "  * lon                                (lon) float32 0.0 2.5 5.0 ... 355.0 357.5\n",
      "  * lat                                (lat) float32 -90.0 -88.11 ... 88.11 90.0\n",
      "  * year                               (year) int64 2005 2006 2007 ... 2014 2015\n",
      "Dimensions without coordinates: gridcell, landunit, column, pft, cft, ltype,\n",
      "                                nvegwcs\n",
      "Data variables: (12/494)\n",
      "    mcdate                             (year) float64 2.005e+07 ... 2.015e+07\n",
      "    mcsec                              (year) float64 0.0 0.0 0.0 ... 0.0 0.0\n",
      "    mdcur                              (year) float64 181.6 531.5 ... 3.65e+03\n",
      "    mscur                              (year) float64 0.0 0.0 0.0 ... 0.0 0.0\n",
      "    nstep                              (year) float64 8.719e+03 ... 1.752e+05\n",
      "    area                               (year, lat, lon) float32 nan nan ... nan\n",
      "    ...                                 ...\n",
      "    XSMRPOOL                           (year, gridcell) float32 -50.36 ... -0...\n",
      "    XSMRPOOL_RECOVER                   (year, gridcell) float32 6.967e-06 ......\n",
      "    ZBOT                               (year, gridcell) float32 30.0 ... 30.0\n",
      "    ZWT                                (year, gridcell) float32 1.084 ... 8.6\n",
      "    ZWT_CH4_UNSAT                      (year, gridcell) float32 7.01 ... 0.0\n",
      "    ZWT_PERCH                          (year, gridcell) float32 7.283 ... 0.01\n",
      "Attributes: (12/40)\n",
      "    title:                                     CLM History file information\n",
      "    comment:                                   NOTE: None of the variables ar...\n",
      "    Conventions:                               CF-1.0\n",
      "    history:                                   created on 09/06/23 02:33:14\n",
      "    source:                                    Community Terrestrial Systems ...\n",
      "    hostname:                                  cheyenne\n",
      "    ...                                        ...\n",
      "    ctype_urban_pervious_road:                 75\n",
      "    cft_c3_crop:                               1\n",
      "    cft_c3_irrigated:                          2\n",
      "    time_period_freq:                          month_1\n",
      "    Time_constant_3Dvars_filename:             ./PPEn11_CTL2010_OAAT0000.clm2...\n",
      "    Time_constant_3Dvars:                      ZSOI:DZSOI:WATSAT:SUCSAT:BSW:H...\n"
     ]
    }
   ],
   "source": [
    "#test function on a dummy variable\n",
    "global_mean = calculate_global_monthly_average('TSA')\n",
    "print(global_mean)"
   ]
  },
  {
   "cell_type": "markdown",
   "id": "4fefe36f-e85c-45d7-83dc-0096220a8f75",
   "metadata": {},
   "source": [
    "some highlights to see data variables\n",
    "- latin_hypercube.data_vars\n",
    "- latin_hypercube.attrs\n",
    "- latin_hypercube.time\n",
    "- latin_hypercube.time.shape\n"
   ]
  }
 ],
 "metadata": {
  "kernelspec": {
   "display_name": "Python [conda env:meds-py]",
   "language": "python",
   "name": "conda-env-meds-py-py"
  },
  "language_info": {
   "codemirror_mode": {
    "name": "ipython",
    "version": 3
   },
   "file_extension": ".py",
   "mimetype": "text/x-python",
   "name": "python",
   "nbconvert_exporter": "python",
   "pygments_lexer": "ipython3",
   "version": "3.11.7"
  }
 },
 "nbformat": 4,
 "nbformat_minor": 5
}
